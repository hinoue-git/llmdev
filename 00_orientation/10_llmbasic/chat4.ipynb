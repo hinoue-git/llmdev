{
 "cells": [
  {
   "cell_type": "code",
   "execution_count": 2,
   "metadata": {},
   "outputs": [
    {
     "name": "stdout",
     "output_type": "stream",
     "text": [
      "--------------------\n",
      "日本は多様な魅力を持つ国で、自然、美食、文化、歴史などあらゆる面で楽しませてくれます。いくつかのポイントを挙げてみましょう。\n",
      "\n",
      "### 1. 自然\n",
      "- **四季折々の風景**: 日本には美しい四季があり、春は桜、夏は海や山の緑、秋は紅葉、冬は雪景\n",
      "--------------------\n",
      "日本は多様な魅力を持つ国で、その文化、歴史、自然、食べ物などさまざまな要素が融合しています。以下にいくつかのポイントを紹介します。\n",
      "\n",
      "### 1. 伝統文化\n",
      "- **茶道**: 日本独特の儀式と美学を重んじるお茶の入れ方。\n",
      "- **着物**: 美しい和服は、日本の伝統的\n",
      "--------------------\n",
      "もちろんです！日本は多様な文化と美しい自然、歴史的な名所、美味しい食べ物が豊富にある魅力的な国です。以下にいくつかのポイントを挙げてみます。\n",
      "\n",
      "### 1. **文化と伝統**\n",
      "- **祭り（まつり）**: 日本各地で行われる伝統的な祭りは、神社や寺院でのイベントから地域\n"
     ]
    }
   ],
   "source": [
    "# 必要なモジュールをインポート\n",
    "import os\n",
    "from dotenv import load_dotenv\n",
    "from openai import OpenAI\n",
    "from pprint import pprint\n",
    "\n",
    "# 環境変数の取得\n",
    "load_dotenv(\"../../.env\")\n",
    "\n",
    "# OpenAI APIクライアントを生成\n",
    "client = OpenAI(api_key=os.environ['API_KEY'])\n",
    "\n",
    "# モデル名\n",
    "MODEL_NAME = \"gpt-4o-mini\"\n",
    "\n",
    "# 出力の多様性\n",
    "message = \"日本の魅力を紹介して！\"\n",
    "\n",
    "# APIへリクエスト\n",
    "response = client.chat.completions.create(\n",
    "    model=MODEL_NAME,\n",
    "    messages=[\n",
    "        {\"role\": \"user\", \"content\": message},\n",
    "    ],\n",
    "    presence_penalty=2.0,\n",
    "    n = 3, # 3回答を得る\n",
    "    max_completion_tokens = 100 # 出力トークン長を制限\n",
    ")\n",
    "\n",
    "# 結果を表示（複数回答を比較）\n",
    "for choice in response.choices:\n",
    "    print(\"-\" * 20)\n",
    "    print(choice.message.content.strip())"
   ]
  }
 ],
 "metadata": {
  "kernelspec": {
   "display_name": ".venv",
   "language": "python",
   "name": "python3"
  },
  "language_info": {
   "codemirror_mode": {
    "name": "ipython",
    "version": 3
   },
   "file_extension": ".py",
   "mimetype": "text/x-python",
   "name": "python",
   "nbconvert_exporter": "python",
   "pygments_lexer": "ipython3",
   "version": "3.12.7"
  }
 },
 "nbformat": 4,
 "nbformat_minor": 2
}
