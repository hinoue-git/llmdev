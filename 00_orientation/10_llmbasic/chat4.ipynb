{
 "cells": [
  {
   "cell_type": "code",
   "execution_count": 3,
   "metadata": {},
   "outputs": [
    {
     "name": "stdout",
     "output_type": "stream",
     "text": [
      "--------------------\n",
      "日本には多くの魅力がありますので、いくつか紹介しますね。\n",
      "\n",
      "1. **歴史と文化**: 日本は古代から続く豊かな歴史を持っています。神社や寺院、城など、歴史的建造物が各地に点在しています。また、和歌や茶道、花道（生け花）など、伝統的な文化も大切にされています。\n",
      "\n",
      "2. **自然の美**:\n",
      "--------------------\n",
      "日本の魅力は多岐にわたります。以下にいくつかのポイントを紹介します。\n",
      "\n",
      "1. **自然の美しさ**: 日本は四季が明確で、春には桜、夏には緑豊かな山々、秋には紅葉、冬には雪景色と、各季節ごとに異なる美しい風景があります。特に富士山や温泉地（例えば箱根や草津\n",
      "--------------------\n",
      "もちろんです！日本の魅力は多岐にわたりますが、いくつかのポイントを挙げてみます。\n",
      "\n",
      "1. **文化と歴史**: 日本は非常に豊かな歴史と文化を持っています。お寺や神社、城などの歴史的な建造物が全国に点在しています。また、茶道や着物、伝統音楽など、独自の文化が今も息づいて\n"
     ]
    }
   ],
   "source": [
    "# 必要なモジュールをインポート\n",
    "import os\n",
    "from dotenv import load_dotenv\n",
    "from openai import OpenAI\n",
    "from pprint import pprint\n",
    "\n",
    "# 環境変数の取得\n",
    "load_dotenv(\"../../.env\")\n",
    "\n",
    "# OpenAI APIクライアントを生成\n",
    "client = OpenAI(api_key=os.environ['API_KEY'])\n",
    "\n",
    "# モデル名\n",
    "MODEL_NAME = \"gpt-4o-mini\"\n",
    "\n",
    "# 出力の多様性\n",
    "message = \"日本の魅力を紹介して！\"\n",
    "\n",
    "# APIへリクエスト\n",
    "response = client.chat.completions.create(\n",
    "    model=MODEL_NAME,\n",
    "    messages=[\n",
    "        {\"role\": \"user\", \"content\": message},\n",
    "    ],\n",
    "    presence_penalty=2.0,\n",
    "    n = 3, # 3回答を得る\n",
    "    max_completion_tokens = 100 # 出力トークン長を制限\n",
    ")\n",
    "\n",
    "# 結果を表示（複数回答を比較）\n",
    "for choice in response.choices:\n",
    "    print(\"-\" * 20)\n",
    "    print(choice.message.content.strip())"
   ]
  }
 ],
 "metadata": {
  "kernelspec": {
   "display_name": ".venv",
   "language": "python",
   "name": "python3"
  },
  "language_info": {
   "codemirror_mode": {
    "name": "ipython",
    "version": 3
   },
   "file_extension": ".py",
   "mimetype": "text/x-python",
   "name": "python",
   "nbconvert_exporter": "python",
   "pygments_lexer": "ipython3",
   "version": "3.12.7"
  }
 },
 "nbformat": 4,
 "nbformat_minor": 2
}
