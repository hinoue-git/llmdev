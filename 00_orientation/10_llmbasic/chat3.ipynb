{
 "cells": [
  {
   "cell_type": "code",
   "execution_count": 1,
   "metadata": {},
   "outputs": [
    {
     "name": "stdout",
     "output_type": "stream",
     "text": [
      "--------------------\n",
      "日本の魅力は多岐にわたりますが、以下のいくつかのポイントを挙げてみます。\n",
      "\n",
      "### 1. 美しい自然\n",
      "日本は四季がはっきりしており、それぞれの季節にふさわしい美しい景色を楽しむことができます。桜の季節には満開の桜が楽しめ、夏には山や海でのアウトドアを、秋\n",
      "--------------------\n",
      "もちろんです！日本には数多くの魅力がありますが、いくつか重要なポイントを挙げてみましょう。\n",
      "\n",
      "### 1. **文化と歴史**\n",
      "- **伝統芸能**：能や歌舞伎、茶道、華道など、多様な伝統芸能が存在し、それぞれが深い歴史に根ざしています。\n",
      "- **神社と寺**：古代から続く神社や\n",
      "--------------------\n",
      "もちろんです！日本には多くの魅力がありますので、いくつかのポイントを挙げてみます。\n",
      "\n",
      "### 1. 文化と伝統\n",
      "- **寺社仏閣**: 京都の金閣寺や清水寺、東京の浅草寺など、歴史ある建物が多くの людзейを魅了します。\n",
      "- **伝統芸能**: 着物、和食（懐石料理）、\n"
     ]
    }
   ],
   "source": [
    "# 必要なモジュールをインポート\n",
    "import os\n",
    "from dotenv import load_dotenv\n",
    "from openai import OpenAI\n",
    "from pprint import pprint\n",
    "\n",
    "# 環境変数の取得\n",
    "load_dotenv(\"../../.env\")\n",
    "\n",
    "# OpenAI APIクライアントを生成\n",
    "client = OpenAI(api_key=os.environ['API_KEY'])\n",
    "\n",
    "# モデル名\n",
    "MODEL_NAME = \"gpt-4o-mini\"\n",
    "\n",
    "# 出力の多様性\n",
    "message = \"日本の魅力を紹介して！\"\n",
    "\n",
    "# APIへリクエスト\n",
    "response = client.chat.completions.create(\n",
    "    model=MODEL_NAME,\n",
    "    messages=[\n",
    "        {\"role\": \"user\", \"content\": message},\n",
    "    ],\n",
    "    temperature=1.4,\n",
    "    n = 3, # 3回答を得る\n",
    "    max_completion_tokens = 100 # 出力トークン長を制限\n",
    ")\n",
    "\n",
    "# 結果を表示（複数回答を比較）\n",
    "for choice in response.choices:\n",
    "    print(\"-\" * 20)\n",
    "    print(choice.message.content.strip())"
   ]
  }
 ],
 "metadata": {
  "kernelspec": {
   "display_name": ".venv",
   "language": "python",
   "name": "python3"
  },
  "language_info": {
   "codemirror_mode": {
    "name": "ipython",
    "version": 3
   },
   "file_extension": ".py",
   "mimetype": "text/x-python",
   "name": "python",
   "nbconvert_exporter": "python",
   "pygments_lexer": "ipython3",
   "version": "3.12.7"
  }
 },
 "nbformat": 4,
 "nbformat_minor": 2
}
