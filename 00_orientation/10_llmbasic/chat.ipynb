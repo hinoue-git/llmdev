{
 "cells": [
  {
   "cell_type": "code",
   "execution_count": 8,
   "metadata": {},
   "outputs": [
    {
     "name": "stdout",
     "output_type": "stream",
     "text": [
      "{'_request_id': 'req_892bdb20cabb4a9d9c62764dfce7ed29',\n",
      " 'choices': [Choice(finish_reason='stop', index=0, logprobs=None, message=ChatCompletionMessage(content='言語モデルを効果的に利用するためのポイントはいくつかあります。以下に主な点を挙げます。\\n\\n1. **具体的なプロンプトを提供する**:\\n   - モデルに対する指示は具体的であるほど良い結果が得られます。何を求めているのか明確に伝えましょう。\\n\\n2. **文脈を提供する**:\\n   - モデルが関連する情報を理解できるように、適切な文脈を与えます。前提条件や背景情報を含めることで、より精度の高い応答が得られます。\\n\\n3. **実験と調整**:\\n   - さまざまなプロンプトを試し、結果を比較してみることで、最適なアプローチを見つけ出すことができます。\\n\\n4. **フォーマットの指定**:\\n   - 出力形式を明示的に指定することで、期待する結果に近づけることができます。例えば、リスト形式や段落形式など、求めるスタイルを伝えましょう。\\n\\n5. **フィードバックを利用する**:\\n   - モデルからの応答に対してフィードバックを行うことで、次回の応答品質を改善する手助けになります。\\n\\n6. **限界を理解する**:\\n   - モデルの能力や限界を理解し、必ずしも全ての質問に完璧に答えられるわけではないことを意識しましょう。情報の正確さを確認することが重要です。\\n\\n7. **多様な用途を探る**:\\n   - 言語モデルはテキスト生成や翻訳、要約、質問応答等、多くの用途に使えます。自分のニーズに合った使用方法を模索しましょう。\\n\\n8. **セキュリティとプライバシーを考慮**:\\n   - 機密情報や個人情報をモデルに与えないよう注意しましょう。セキュリティとプライバシーに配慮した利用が重要です。\\n\\nこれらのポイントを考慮しながら言語モデルを活用することで、より効果的に目的を達成できるでしょう。', refusal=None, role='assistant', annotations=[], audio=None, function_call=None, tool_calls=None))],\n",
      " 'created': 1755851366,\n",
      " 'id': 'chatcmpl-C7HRGyPbhGvMNGrJCoMtS4UdqI8lo',\n",
      " 'model': 'gpt-4o-mini-2024-07-18',\n",
      " 'object': 'chat.completion',\n",
      " 'service_tier': 'default',\n",
      " 'system_fingerprint': 'fp_560af6e559',\n",
      " 'usage': CompletionUsage(completion_tokens=517, prompt_tokens=18, total_tokens=535, completion_tokens_details=CompletionTokensDetails(accepted_prediction_tokens=0, audio_tokens=0, reasoning_tokens=0, rejected_prediction_tokens=0), prompt_tokens_details=PromptTokensDetails(audio_tokens=0, cached_tokens=0))}\n",
      "言語モデルを効果的に利用するためのポイントはいくつかあります。以下に主な点を挙げます。\n",
      "\n",
      "1. **具体的なプロンプトを提供する**:\n",
      "   - モデルに対する指示は具体的であるほど良い結果が得られます。何を求めているのか明確に伝えましょう。\n",
      "\n",
      "2. **文脈を提供する**:\n",
      "   - モデルが関連する情報を理解できるように、適切な文脈を与えます。前提条件や背景情報を含めることで、より精度の高い応答が得られます。\n",
      "\n",
      "3. **実験と調整**:\n",
      "   - さまざまなプロンプトを試し、結果を比較してみることで、最適なアプローチを見つけ出すことができます。\n",
      "\n",
      "4. **フォーマットの指定**:\n",
      "   - 出力形式を明示的に指定することで、期待する結果に近づけることができます。例えば、リスト形式や段落形式など、求めるスタイルを伝えましょう。\n",
      "\n",
      "5. **フィードバックを利用する**:\n",
      "   - モデルからの応答に対してフィードバックを行うことで、次回の応答品質を改善する手助けになります。\n",
      "\n",
      "6. **限界を理解する**:\n",
      "   - モデルの能力や限界を理解し、必ずしも全ての質問に完璧に答えられるわけではないことを意識しましょう。情報の正確さを確認することが重要です。\n",
      "\n",
      "7. **多様な用途を探る**:\n",
      "   - 言語モデルはテキスト生成や翻訳、要約、質問応答等、多くの用途に使えます。自分のニーズに合った使用方法を模索しましょう。\n",
      "\n",
      "8. **セキュリティとプライバシーを考慮**:\n",
      "   - 機密情報や個人情報をモデルに与えないよう注意しましょう。セキュリティとプライバシーに配慮した利用が重要です。\n",
      "\n",
      "これらのポイントを考慮しながら言語モデルを活用することで、より効果的に目的を達成できるでしょう。\n"
     ]
    }
   ],
   "source": [
    "# 必要なモジュールをインポート\n",
    "import os\n",
    "from dotenv import load_dotenv\n",
    "from openai import OpenAI\n",
    "from pprint import pprint\n",
    "\n",
    "# 環境変数の取得\n",
    "load_dotenv(\"../../.env\")\n",
    "\n",
    "# OpenAI APIクライアントを生成\n",
    "client = OpenAI(api_key=os.environ['API_KEY'])\n",
    "\n",
    "# モデル名\n",
    "MODEL_NAME = \"gpt-4o-mini\"\n",
    "\n",
    "# メッセージの設定\n",
    "message = \"言語モデルを使う上でのポイントは\"\n",
    "\n",
    "# APIへリクエスト\n",
    "response = client.chat.completions.create(\n",
    "    model=MODEL_NAME,\n",
    "    messages=[\n",
    "        {\"role\": \"user\", \"content\": message},\n",
    "    ]\n",
    ")\n",
    "\n",
    "# レスポンスの表示\n",
    "pprint(vars(response))\n",
    "\n",
    "# 言語モデルからの回答を表示\n",
    "print(response.choices[0].message.content.strip())"
   ]
  }
 ],
 "metadata": {
  "kernelspec": {
   "display_name": ".venv",
   "language": "python",
   "name": "python3"
  },
  "language_info": {
   "codemirror_mode": {
    "name": "ipython",
    "version": 3
   },
   "file_extension": ".py",
   "mimetype": "text/x-python",
   "name": "python",
   "nbconvert_exporter": "python",
   "pygments_lexer": "ipython3",
   "version": "3.12.7"
  }
 },
 "nbformat": 4,
 "nbformat_minor": 2
}
