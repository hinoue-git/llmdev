{
 "cells": [
  {
   "cell_type": "code",
   "execution_count": 6,
   "metadata": {},
   "outputs": [
    {
     "name": "stdout",
     "output_type": "stream",
     "text": [
      "言語モデルを効果的に使用するためのポイントはいくつかあります。以下にいくつかの重要な点を挙げます。\n",
      "\n",
      "1. **明確な目的を持つ**: 何を達成したいのか、具体的な目標を設定することで、質問やリクエストも明確にできます。\n",
      "\n",
      "2. **コンテキストを提供する**: モデルに対して適切な背景情報や文脈を提供することで、より関連性のある応答を得やすくなります。\n",
      "\n",
      "3. **具体的な指示を与える**: 曖昧な要求よりも、具体的な指示や質問をすることで、望ましい答えを引き出す可能性が高まります。\n",
      "\n",
      "4. **適切なフィードバックを与える**: モデルが生成した応答に対してフィードバックを行うことで、次回のやりとりを改善できます。\n",
      "\n",
      "5. **多様なフォーマットを試す**: 質問の形式や言い回しを変えてみることで、異なる視点や情報を引き出すことができるかもしれません。\n",
      "\n",
      "6. **出力結果の評価**: モデルが生成した情報が正確かどうかを批判的に評価することが重要です。特に専門的な内容については、外部の信頼できる情報源と照らし合わせることをお勧めします。\n",
      "\n",
      "7. **倫理的な考慮**: モデルが生成する情報が倫理的であるかどうかを考慮し、偏見や誤情報に対する意識を持つことが大切です。\n",
      "\n",
      "8. **創造的な活用**: 言語モデルはアイデアを生成したり、ブレインストーミングを行ったりするのに適しています。柔軟に活用することで新たな視点が得られることがあります。\n",
      "\n",
      "これらのポイントを意識することで、言語モデルをより効果的に活用できるでしょう。"
     ]
    }
   ],
   "source": [
    "# 必要なモジュールをインポート\n",
    "import os\n",
    "from dotenv import load_dotenv\n",
    "from openai import OpenAI\n",
    "from pprint import pprint\n",
    "\n",
    "# 環境変数の取得\n",
    "load_dotenv(\"../../.env\")\n",
    "\n",
    "# OpenAI APIクライアントを生成\n",
    "client = OpenAI(api_key=os.environ['API_KEY'])\n",
    "\n",
    "# モデル名\n",
    "MODEL_NAME = \"gpt-4o-mini\"\n",
    "\n",
    "# メッセージの設定\n",
    "message = \"言語モデルを使う上でのポイントは\"\n",
    "\n",
    "# APIへリクエスト\n",
    "stream = client.chat.completions.create(\n",
    "    model=MODEL_NAME,\n",
    "    messages=[\n",
    "        {\"role\": \"user\", \"content\": message},\n",
    "    ],\n",
    "    stream=True,\n",
    ")\n",
    "\n",
    "for chunk in stream:\n",
    "    if chunk.choices:\n",
    "        if chunk.choices[0].delta.content is not None:\n",
    "            print(chunk.choices[0].delta.content, end=\"\")"
   ]
  }
 ],
 "metadata": {
  "kernelspec": {
   "display_name": ".venv",
   "language": "python",
   "name": "python3"
  },
  "language_info": {
   "codemirror_mode": {
    "name": "ipython",
    "version": 3
   },
   "file_extension": ".py",
   "mimetype": "text/x-python",
   "name": "python",
   "nbconvert_exporter": "python",
   "pygments_lexer": "ipython3",
   "version": "3.12.7"
  }
 },
 "nbformat": 4,
 "nbformat_minor": 2
}
