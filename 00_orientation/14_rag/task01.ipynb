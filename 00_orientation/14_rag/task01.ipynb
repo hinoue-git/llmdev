{
 "cells": [
  {
   "cell_type": "code",
   "execution_count": 2,
   "metadata": {},
   "outputs": [
    {
     "name": "stderr",
     "output_type": "stream",
     "text": [
      "2025-09-01 18:47:00,767 - INFO - HTTP Request: POST https://api.openai.com/v1/embeddings \"HTTP/1.1 200 OK\"\n"
     ]
    },
    {
     "data": {
      "text/plain": [
       "'質問:退職する時の手続きを教えて'"
      ]
     },
     "metadata": {},
     "output_type": "display_data"
    },
    {
     "name": "stderr",
     "output_type": "stream",
     "text": [
      "2025-09-01 18:47:05,987 - INFO - Condensed question: 退職する時の手続きを教えて\n",
      "2025-09-01 18:47:06,784 - INFO - HTTP Request: POST https://api.openai.com/v1/embeddings \"HTTP/1.1 200 OK\"\n",
      "2025-09-01 18:47:17,049 - INFO - HTTP Request: POST https://api.openai.com/v1/chat/completions \"HTTP/1.1 200 OK\"\n"
     ]
    },
    {
     "name": "stdout",
     "output_type": "stream",
     "text": [
      "退職する際の手続きについては、以下のステップがあります。\n",
      "\n",
      "### 1. 退職の申し出と届け出\n",
      "- 自己都合退職を希望する場合は、原則として**退職希望日の1ヶ月前まで**に直属の上司に申し出る必要があります。\n",
      "- 退職届（書面）の提出が必要です。提出後は、退職日や引き継ぎ内容について上司と人事部と協議を行います。\n",
      "\n",
      "### 2. 退職までの流れ\n",
      "退職が決まった後は、以下の流れで準備を進めます。\n",
      "1. **引き継ぎ**：担当業務の進捗や内容、必要な手順を文書にまとめ、後任者へ引き継ぎます。\n",
      "2. **社内備品の返却**：会社の備品（パソコン、スマートフォン、IDカード、制服など）を退職日までに返却します。\n",
      "3. **最終面談**：人事部による退職面談を実施し、退職理由や今後のキャリア計画について意見を伺います。\n",
      "\n",
      "### 3. 退職日の決定\n",
      "- 退職日については、業務の都合や引き継ぎ内容を考慮して、上司および人事部と話し合いの上で最終決定します。\n",
      "\n",
      "### 4. 退職後の手続きとサポート\n",
      "退職後には以下の手続きがあります。\n",
      "1. **退職証明書の発行**：退職後、次の就職先などで必要な場合、「退職証明書」を発行します。希望する場合は人事部まで申請してください。\n",
      "2. **失業保険の手続き**：退職後に失業手当を受け取るためには、ハローワークで所定の手続きを行う必要があります。会社から「離職票」を発行し、退職日から2週間以内に郵送されます。\n",
      "3. **退職金の支払い**：勤続3年以上の従業員には、会社の規定に基づいて退職金が支給されます。支給額は勤続年数や退職理由に基づいて計算され、退職月の給与支給日に合わせて支払われます。\n",
      "\n",
      "これらの手続きをしっかりと行うことで、円満に退職することができます。何か他に知りたいことがあれば教えてください！\n",
      "\n",
      "---ご利用ありがとうございました！---\n"
     ]
    }
   ],
   "source": [
    "# 必要なモジュールをインポート\n",
    "import os\n",
    "from dotenv import load_dotenv\n",
    "from llama_index.core import VectorStoreIndex, SimpleDirectoryReader\n",
    "from llama_index.llms.openai import OpenAI\n",
    "\n",
    "# 環境変数の取得\n",
    "load_dotenv(\"../../.env\")\n",
    "os.environ['OPENAI_API_KEY']  = os.environ['API_KEY']\n",
    "\n",
    "# モデル名\n",
    "MODEL_NAME = \"gpt-4o-mini\"\n",
    "\n",
    "# Indexの構築\n",
    "documents = SimpleDirectoryReader('./data/text').load_data()\n",
    "index = VectorStoreIndex.from_documents(documents)\n",
    "\n",
    "# Chat Engineの作成\n",
    "llm = OpenAI(model=MODEL_NAME)\n",
    "chat_engine = index.as_chat_engine(llm=llm)\n",
    "\n",
    "# チャットの開始\n",
    "while(True):\n",
    "    message = input(\"メッセージを入力:\")\n",
    "    if message.strip()==\"\":\n",
    "        break\n",
    "    display(f\"質問:{message}\")\n",
    "\n",
    "    # 質問（以下にソースコードを記述）\n",
    "\n",
    "    # 質問：1回目\n",
    "    response = chat_engine.chat(message)\n",
    "\n",
    "    # 回答を表示（以下にソースコードを記述）\n",
    "    print(response)\n",
    "print(\"\\n---ご利用ありがとうございました！---\")"
   ]
  }
 ],
 "metadata": {
  "kernelspec": {
   "display_name": ".venv",
   "language": "python",
   "name": "python3"
  },
  "language_info": {
   "codemirror_mode": {
    "name": "ipython",
    "version": 3
   },
   "file_extension": ".py",
   "mimetype": "text/x-python",
   "name": "python",
   "nbconvert_exporter": "python",
   "pygments_lexer": "ipython3",
   "version": "3.12.7"
  }
 },
 "nbformat": 4,
 "nbformat_minor": 2
}
