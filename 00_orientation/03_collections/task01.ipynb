{
 "cells": [
  {
   "cell_type": "code",
   "execution_count": 12,
   "metadata": {},
   "outputs": [
    {
     "name": "stdout",
     "output_type": "stream",
     "text": [
      "平均：86.6\n",
      "最高点: 92\n",
      "最低点: 78\n",
      "平均以上の学生数: 3\n"
     ]
    }
   ],
   "source": [
    "# 平均以上の学生数をカウント\n",
    "def count_over_average(grades, average):\n",
    "    count = sum(1 for grade in grades if grade >= average)\n",
    "    return count\n",
    "\n",
    "# 平均、最高点、最低点を計算し、平均以上の学生数を出力する\n",
    "def main():\n",
    "    grades = [85, 90, 78, 92, 88]\n",
    "    average = sum(grades) / len(grades)\n",
    "    print(f\"平均：{average:.1f}\")\n",
    "    print(f\"最高点: {max(grades)}\")\n",
    "    print(f\"最低点: {min(grades)}\")\n",
    "    over_average = count_over_average(grades, average)\n",
    "    print(f\"平均以上の学生数: {over_average}\")\n",
    "\n",
    "if __name__ == \"__main__\":\n",
    "    main()\n",
    "\n",
    "\n",
    "\n"
   ]
  },
  {
   "cell_type": "markdown",
   "metadata": {},
   "source": [
    "# 学生の成績分析ツールを作成しよう\n",
    "- grades = [85, 90, 78, 92, 88] の点数を使用する\n",
    "- 成績の平均点を計算する\n",
    "- 成績の最高点と最低点を求る\n",
    "- 成績が平均以上の学生数をカウントする\n",
    "- 結果を出力する\n"
   ]
  }
 ],
 "metadata": {
  "kernelspec": {
   "display_name": "Python 3",
   "language": "python",
   "name": "python3"
  },
  "language_info": {
   "codemirror_mode": {
    "name": "ipython",
    "version": 3
   },
   "file_extension": ".py",
   "mimetype": "text/x-python",
   "name": "python",
   "nbconvert_exporter": "python",
   "pygments_lexer": "ipython3",
   "version": "3.12.10"
  }
 },
 "nbformat": 4,
 "nbformat_minor": 2
}
