{
 "cells": [
  {
   "cell_type": "code",
   "execution_count": 13,
   "metadata": {},
   "outputs": [
    {
     "name": "stdout",
     "output_type": "stream",
     "text": [
      "エラー: 英単語を入力してください\n",
      "入力した英単語：['book', 'hogehoge', 'hugahuga']\n",
      "aが2個ありました\n",
      "bが1個ありました\n",
      "eが2個ありました\n",
      "gが4個ありました\n",
      "hが4個ありました\n",
      "kが1個ありました\n",
      "oが4個ありました\n",
      "uが2個ありました\n"
     ]
    }
   ],
   "source": [
    "import string\n",
    "\n",
    "def get_alphabet():\n",
    "    word_list = []\n",
    "    # アルファベットのカウントを0で初期化\n",
    "    alphabet = dict.fromkeys(list(string.ascii_lowercase), 0)\n",
    "    while True:\n",
    "        try:            \n",
    "            word = input(\"英単語を入力して下さい (終了するにはそのままEnterを押してください):\")\n",
    "            # 未入力でリターンキーでループを終了\n",
    "            if word == \"\":\n",
    "                break\n",
    "            if not word.isalpha():\n",
    "                raise ValueError(\"英単語を入力してください\")\n",
    "            # 入力された単語を小文字に変換\n",
    "            word = word.lower()\n",
    "            # アルファベットの使用回数をカウント\n",
    "            for char in word:\n",
    "                if char in alphabet:\n",
    "                    alphabet[char] += 1\n",
    "            # 単語リストに追加\n",
    "            word_list.append(word)\n",
    "        except ValueError as e:\n",
    "            print(f\"エラー: {e}\")\n",
    "    return word_list, alphabet\n",
    "\n",
    "\n",
    "def main():\n",
    "    # アルファベットの使用回数をカウントする関数を呼び出す\n",
    "    word_list, alphabet = get_alphabet()\n",
    "\n",
    "    # 単語リストをソート\n",
    "    word_list.sort()\n",
    "    print(f\"入力した英単語：{word_list}\")\n",
    "\n",
    "    # アルファベットの使用回数を出力\n",
    "    for letter, count in alphabet.items():\n",
    "        if count > 0:\n",
    "            print(f\"{letter}が{count}個ありました\")    \n",
    "\n",
    "if __name__ == \"__main__\":\n",
    "    main()\n"
   ]
  },
  {
   "cell_type": "markdown",
   "metadata": {},
   "source": [
    "# 単語の文字数をカウントしよう\n",
    "1. 英単語を格納するための空のリストを作成する\n",
    "1. アルファベットごとの数を格納する辞書を作成する。キーがアルファベット小文字で、値が0の辞書を作成する\n",
    "    - 'a':0, 'b':0, 'c':0, 'd':0, 'e':0, 'f':0, 'g':0, 'h':0, 'i':0, 'j':0, 'k':0, 'l':0, 'm':0, 'n':0, 'o':0, 'p':0, 'q':0, 'r':0, 's':0, 't':0, 'u':0, 'v':0, 'w':0, 'x':0, 'y':0, 'z':0\n",
    "1. 英単語の入力の受付を繰り返す\n",
    "    - キーボードから英単語の入力を受け付ける\n",
    "    - 入力された文字が \"\" なら繰り返しを抜ける\n",
    "    - 英単語をリストに格納する\n",
    "    - 英単語を構成する文字を1文字ずつ確認して、登場したアルファベットの数に1を加算する\n",
    "1. 英単語のリストをABC順に並べ替える\n",
    "1. 英単語のリストを一覧表示する\n",
    "1. アルファベットごとの数を格納する辞書から、数が0より大きい文字について「○が△個ありました」と表示する"
   ]
  }
 ],
 "metadata": {
  "kernelspec": {
   "display_name": "Python 3",
   "language": "python",
   "name": "python3"
  },
  "language_info": {
   "codemirror_mode": {
    "name": "ipython",
    "version": 3
   },
   "file_extension": ".py",
   "mimetype": "text/x-python",
   "name": "python",
   "nbconvert_exporter": "python",
   "pygments_lexer": "ipython3",
   "version": "3.12.10"
  }
 },
 "nbformat": 4,
 "nbformat_minor": 2
}
