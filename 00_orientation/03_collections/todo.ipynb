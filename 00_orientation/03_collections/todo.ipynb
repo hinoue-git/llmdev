{
 "cells": [
  {
   "cell_type": "code",
   "execution_count": 3,
   "metadata": {},
   "outputs": [
    {
     "name": "stdout",
     "output_type": "stream",
     "text": [
      "['work', 'lunch']\n",
      "1: work\n",
      "2: lunch\n"
     ]
    }
   ],
   "source": [
    "\n",
    "def read_todo_list():\n",
    "    try:\n",
    "        with open(\"todo_list.txt\", \"r\", encoding=\"utf-8\") as f:\n",
    "            todo_list = f.read().splitlines()\n",
    "    except FileNotFoundError:\n",
    "        todo_list = []\n",
    "    return todo_list\n",
    "\n",
    "def get_user_input(todo_list):\n",
    "    while True:\n",
    "        try:\n",
    "            number = int(input(\"番号を入力してください[1:追加、2:表示、4:保存と終了]\"))\n",
    "            if number not in (1, 2, 4):\n",
    "                print(\"指定の番号を入力してください。\")\n",
    "                continue\n",
    "            \n",
    "            if number == 1:\n",
    "                new_item = input(\"追加するTODOを入力してください: \")\n",
    "                todo_list.append(new_item)\n",
    "\n",
    "            # TODOリストの表示\n",
    "            if number == 2:\n",
    "                print(todo_list)\n",
    "                for index, line in enumerate(todo_list):\n",
    "                    print(f\"{index + 1}: {line}\")\n",
    "\n",
    "            # 終了と保存\n",
    "            if number == 4:\n",
    "                 with open(\"todo_list.txt\", \"w\", encoding=\"utf-8\") as f:\n",
    "                    f.writelines(f\"{item}\\n\" for item in todo_list)\n",
    "                    return\n",
    "        except ValueError:\n",
    "            print(\"エラー: 数値を入力してください\")\n",
    "    \n",
    "def main():\n",
    "    todo_list = read_todo_list()\n",
    "    get_user_input(todo_list)\n",
    "\n",
    "\n",
    "if __name__ == \"__main__\":\n",
    "    main()\n",
    "\n",
    "\n",
    "\n"
   ]
  },
  {
   "cell_type": "markdown",
   "metadata": {},
   "source": [
    "1. ファイル読み込み\n",
    "    - プログラム開始時に、todo_list.txtというファイルが存在すればその内容を読み込み、todo_listというリストに格納します。\n",
    "    - ファイルが存在しない場合は、新しいリストを作成します。\n",
    "1. メニューの表示\n",
    "    - 番号を入力してください[1:追加、2:表示、4:保存と終了]\n",
    "1. :TODOの追加\n",
    "    - 「1」を入力すると、ユーザーからTODO項目を入力してもらい、リストに追加します。\n",
    "    - 新規項目はプログラム終了まで保持され、終了時にファイルへ保存されます。\n",
    "1. :TODOリストの表示\n",
    "    - 「2」を入力すると、現在のTODOリストが番号付きで表示されます。\n",
    "    - リストが空の場合は何も表示されません。\n",
    "1. :終了と保存\n",
    "    - 「4」を入力すると、現在のTODOリストを todo_list.txt ファイルに書き込み、プログラムを終了します。\n",
    "    - このファイルは次回プログラム起動時に読み込まれます。"
   ]
  }
 ],
 "metadata": {
  "kernelspec": {
   "display_name": "Python 3",
   "language": "python",
   "name": "python3"
  },
  "language_info": {
   "codemirror_mode": {
    "name": "ipython",
    "version": 3
   },
   "file_extension": ".py",
   "mimetype": "text/x-python",
   "name": "python",
   "nbconvert_exporter": "python",
   "pygments_lexer": "ipython3",
   "version": "3.12.10"
  }
 },
 "nbformat": 4,
 "nbformat_minor": 2
}
