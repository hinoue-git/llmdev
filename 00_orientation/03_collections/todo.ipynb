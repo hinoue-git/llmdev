{
 "cells": [
  {
   "cell_type": "code",
   "execution_count": 7,
   "metadata": {},
   "outputs": [
    {
     "name": "stdout",
     "output_type": "stream",
     "text": [
      "1: 英語の勉強\n",
      "2: 切手を買う\n",
      "TODOリストを保存して終了します。\n"
     ]
    }
   ],
   "source": [
    "\n",
    "def read_todo_list():\n",
    "    try:\n",
    "        with open(\"todo_list.txt\", \"r\", encoding=\"utf-8\") as f:\n",
    "            todo_list = f.read().splitlines()\n",
    "    except FileNotFoundError:\n",
    "        todo_list = []\n",
    "    return todo_list\n",
    "\n",
    "def get_user_input(todo_list):\n",
    "    while True:\n",
    "        try:\n",
    "            number = int(input(\"番号を入力してください[1:追加、2:表示、3:削除、4:保存と終了]\"))\n",
    "            if number == 1:\n",
    "                new_item = input(\"追加するTODO: \")\n",
    "                todo_list.append(new_item)\n",
    "            # TODOリストの表示\n",
    "            elif number == 2:\n",
    "                for index, line in enumerate(todo_list):\n",
    "                    print(f\"{index + 1}: {line}\")\n",
    "            # TODOリストの削除\n",
    "            elif number == 3:\n",
    "                for index, line in enumerate(todo_list):\n",
    "                    print(f\"{index + 1}: {line}\")\n",
    "                \n",
    "                del_number = int(input(\"削除する番号:\")) - 1 # インデックスは0から始まるため\n",
    "                # 入力された番号が範囲内かチェック\n",
    "                print(del_number)\n",
    "                if 0 <= del_number < len(todo_list):\n",
    "                    # TODOリストから削除\n",
    "                    del todo_list[del_number]\n",
    "                    print(\"削除しました。\")\n",
    "                else:\n",
    "                    print(\"無効な番号です。\")\n",
    "            # 終了と保存\n",
    "            elif number == 4:\n",
    "                 print(\"TODOリストを保存して終了します。\")\n",
    "                 with open(\"todo_list.txt\", \"w\", encoding=\"utf-8\") as f:\n",
    "                    f.writelines(f\"{item}\\n\" for item in todo_list)\n",
    "                    return         \n",
    "            else:\n",
    "                print(\"指定の番号を入力してください。\")\n",
    "        except ValueError:\n",
    "            print(\"エラー: 無効な番号です。\")\n",
    "    \n",
    "def main():\n",
    "    todo_list = read_todo_list()\n",
    "    get_user_input(todo_list)\n",
    "\n",
    "\n",
    "if __name__ == \"__main__\":\n",
    "    main()\n",
    "\n",
    "\n",
    "\n"
   ]
  },
  {
   "cell_type": "markdown",
   "metadata": {},
   "source": [
    "# TODOリストアプリを作成しよう\n",
    "1. ファイル読み込み\n",
    "    - プログラム開始時に、todo_list.txtというファイルが存在すればその内容を読み込み、todo_listというリストに格納します。\n",
    "    - ファイルが存在しない場合は、新しいリストを作成します。\n",
    "1. メニューの表示\n",
    "    - 番号を入力してください[1:追加、2:表示、4:保存と終了]\n",
    "1. :TODOの追加\n",
    "    - 「1」を入力すると、ユーザーからTODO項目を入力してもらい、リストに追加します。\n",
    "    - 新規項目はプログラム終了まで保持され、終了時にファイルへ保存されます。\n",
    "1. :TODOリストの表示\n",
    "    - 「2」を入力すると、現在のTODOリストが番号付きで表示されます。\n",
    "    - リストが空の場合は何も表示されません。\n",
    "1. :終了と保存\n",
    "    - 「4」を入力すると、現在のTODOリストを todo_list.txt ファイルに書き込み、プログラムを終了します。\n",
    "    - このファイルは次回プログラム起動時に読み込まれます。\n",
    "\n",
    "# TODOリストに削除機能を追加しよう\n",
    "1. :削除 と表示する\n",
    "    - todo_list のインデックス番号と要素を表示する。\n",
    "    - todo_list から、指定されたインデックス番号の要素を削除する\n",
    "    - エラーが発生した場合は 無効な番号です。 と表示する"
   ]
  }
 ],
 "metadata": {
  "kernelspec": {
   "display_name": "Python 3",
   "language": "python",
   "name": "python3"
  },
  "language_info": {
   "codemirror_mode": {
    "name": "ipython",
    "version": 3
   },
   "file_extension": ".py",
   "mimetype": "text/x-python",
   "name": "python",
   "nbconvert_exporter": "python",
   "pygments_lexer": "ipython3",
   "version": "3.12.10"
  }
 },
 "nbformat": 4,
 "nbformat_minor": 2
}
