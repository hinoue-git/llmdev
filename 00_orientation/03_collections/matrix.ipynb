{
 "cells": [
  {
   "cell_type": "code",
   "execution_count": 8,
   "metadata": {},
   "outputs": [
    {
     "name": "stdout",
     "output_type": "stream",
     "text": [
      "row [1, 2, 3]\n",
      " 1 2 3\n",
      "row [4, 5, 6]\n",
      " 4 5 6\n",
      "row [7, 8, 9]\n",
      " 7 8 9\n"
     ]
    }
   ],
   "source": [
    "matrix = [\n",
    "    [1, 2, 3],\n",
    "    [4, 5, 6],\n",
    "    [7, 8, 9]\n",
    "]\n",
    "\n",
    "# 2次元リストをネストしたループで表示\n",
    "for row in matrix:\n",
    "    print(f\"row {row}\")\n",
    "    for element in row:\n",
    "        print(f\"{element:2d}\", end=\"\") # 改行を出力しない指定\n",
    "    print()  # 改行"
   ]
  }
 ],
 "metadata": {
  "kernelspec": {
   "display_name": "Python 3",
   "language": "python",
   "name": "python3"
  },
  "language_info": {
   "codemirror_mode": {
    "name": "ipython",
    "version": 3
   },
   "file_extension": ".py",
   "mimetype": "text/x-python",
   "name": "python",
   "nbconvert_exporter": "python",
   "pygments_lexer": "ipython3",
   "version": "3.12.10"
  }
 },
 "nbformat": 4,
 "nbformat_minor": 2
}
