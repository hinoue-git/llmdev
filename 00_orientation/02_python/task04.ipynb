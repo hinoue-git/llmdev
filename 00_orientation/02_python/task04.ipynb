{
 "cells": [
  {
   "cell_type": "code",
   "execution_count": 6,
   "metadata": {},
   "outputs": [
    {
     "name": "stdout",
     "output_type": "stream",
     "text": [
      "エラー: 数値を入力してください\n",
      "エラー: 数値を入力してください\n"
     ]
    }
   ],
   "source": [
    "\n",
    "# 2つの数値をユーザーから取得し割り算をする\n",
    "def get_user_input():\n",
    "    while True:\n",
    "        try:\n",
    "            first = int(input(\"1つ目の数値を入力してください：\"))\n",
    "            if first < 0:\n",
    "                print(\"正の数を入力してください。\")\n",
    "                continue\n",
    "            second = int(input(\"2つ目の数値を入力してください：\"))\n",
    "            if second < 0:\n",
    "                print(\"正の数を入力してください。\")\n",
    "                continue\n",
    "            # 割り算の結果を返す\n",
    "            return first / second\n",
    "        except ZeroDivisionError:\n",
    "            print(\"エラー: 0で割ることはできません\")\n",
    "        except ValueError:\n",
    "            print(\"エラー: 数値を入力してください\")\n",
    "\n",
    "def main():\n",
    "    division = get_user_input()\n",
    "    print(f\"計算結果: {division}\")\n",
    "\n",
    "if __name__ == \"__main__\":\n",
    "    main()\n"
   ]
  },
  {
   "cell_type": "markdown",
   "metadata": {},
   "source": [
    "# 数値計算の例外処理を行おう\n",
    "- ユーザーに2つの数値を入力\n",
    "- その値を割り算する\n",
    "- 数値の代わりに文字を入力した場合は「エラー: 数値を入力してください」と表示\n",
    "- 割る数が0の場合は「エラー: 0で割ることはできません」と表示\n",
    "- 計算が正常に完了した場合、結果を表示\n"
   ]
  }
 ],
 "metadata": {
  "kernelspec": {
   "display_name": "Python 3",
   "language": "python",
   "name": "python3"
  },
  "language_info": {
   "codemirror_mode": {
    "name": "ipython",
    "version": 3
   },
   "file_extension": ".py",
   "mimetype": "text/x-python",
   "name": "python",
   "nbconvert_exporter": "python",
   "pygments_lexer": "ipython3",
   "version": "3.12.10"
  }
 },
 "nbformat": 4,
 "nbformat_minor": 2
}
