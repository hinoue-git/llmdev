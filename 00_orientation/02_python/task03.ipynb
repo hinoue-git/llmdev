{
 "cells": [
  {
   "cell_type": "code",
   "execution_count": null,
   "metadata": {},
   "outputs": [],
   "source": [
    "# 元金と年利をユーザーから取得する\n",
    "def get_user_input():\n",
    "    while True:\n",
    "        try:\n",
    "            principal = int(input(\"元金を入力してください：\"))\n",
    "            if principal < 0:\n",
    "                print(\"正の数を入力してください。\")\n",
    "                continue\n",
    "            annual_interest_rate = float(input(\"年利を入力してください：\"))\n",
    "            if annual_interest_rate < 0:\n",
    "                print(\"正の数を入力してください。\")\n",
    "                continue\n",
    "            # 年利を小数に変換  \n",
    "            annual_interest_rate /= 100\n",
    "            # 年利に1を加える\n",
    "            annual_interest_rate += 1\n",
    "            return principal, annual_interest_rate\n",
    "        except ValueError:\n",
    "            print(\"数値以外が入力されました。\")\n",
    "\n",
    "\n",
    "# 10年間の複利計算を行う\n",
    "def calculate_compound_interest(principal,annual_interest_rate):\n",
    "    for i in range(1,11):\n",
    "        principal = principal\n",
    "        principal *= annual_interest_rate\n",
    "    return principal\n",
    "\n",
    "# メイン関数\n",
    "def main():\n",
    "    principal, annual_interest_rate = get_user_input()\n",
    "    final_amount = calculate_compound_interest(principal, annual_interest_rate)\n",
    "    print(f\"10年後の金額:{final_amount:.2f}\")\n",
    "\n",
    "if __name__ == \"__main__\":\n",
    "    main()"
   ]
  }
 ],
 "metadata": {
  "language_info": {
   "name": "python"
  }
 },
 "nbformat": 4,
 "nbformat_minor": 2
}
