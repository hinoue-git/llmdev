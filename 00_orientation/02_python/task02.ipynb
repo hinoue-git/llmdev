{
 "cells": [
  {
   "cell_type": "code",
   "execution_count": 30,
   "metadata": {},
   "outputs": [
    {
     "name": "stdout",
     "output_type": "stream",
     "text": [
      "送料は350です。\n",
      "送料込税込価格は2000円です。\n"
     ]
    }
   ],
   "source": [
    "\n",
    "TAX_RATE = 0.1  # 税率\n",
    "SHIPPING_FEE = 350 # 送料\n",
    "FREE_SHIPPING_AMOUNT = 2000 # 送料が無料の金額閾値\n",
    "\n",
    "# 税抜価格をユーザーから取得する\n",
    "def get_fee():\n",
    "    while True:\n",
    "        try:\n",
    "            fee = input(\"税抜価格を入力してください：\")\n",
    "            fee = int(fee)\n",
    "            if fee < 0:\n",
    "                print(\"正の数を入力してください。\")\n",
    "                continue\n",
    "            return fee\n",
    "        except ValueError:\n",
    "            print(\"数値以外が入力されました。\")\n",
    "\n",
    "# 税込価格を計算する\n",
    "def calc_tax(fee):\n",
    "    tax = fee * TAX_RATE\n",
    "    fee_include_tax = fee + tax\n",
    "    return fee_include_tax\n",
    "\n",
    "# 送料を計算する\n",
    "def calc_shipping(fee_include_tax):\n",
    "    if fee_include_tax >= FREE_SHIPPING_AMOUNT:\n",
    "        shipping_fee = 0\n",
    "    else:\n",
    "        shipping_fee = SHIPPING_FEE\n",
    "    return shipping_fee\n",
    "\n",
    "# 送料込価格を計算する\n",
    "def calc_total(fee_include_tax, shipping_fee):\n",
    "    total = int(fee_include_tax + shipping_fee)\n",
    "    return total\n",
    "\n",
    "# メイン処理\n",
    "def main():\n",
    "    fee = get_fee()\n",
    "    fee_include_tax = calc_tax(fee)\n",
    "    shipping_fee = calc_shipping(fee_include_tax)\n",
    "    total = calc_total(fee_include_tax, shipping_fee)\n",
    "\n",
    "    if shipping_fee == 0:\n",
    "        print(\"送料は無料です。\")\n",
    "    else:\n",
    "        print(f\"送料は{shipping_fee}です。\")    \n",
    "    print(f\"送料込税込価格は{total}円です。\")\n",
    "\n",
    "# メイン処理の実行\n",
    "if __name__ == \"__main__\":\n",
    "    main()"
   ]
  },
  {
   "cell_type": "markdown",
   "metadata": {},
   "source": [
    "# 料込価格を計算しよう\n",
    "- input関数で入力値を受ける\n",
    "- 税込価格(10%)を計算する\n",
    "- 送料を計算する\n",
    "    - 税込価格が2000円以上の場合は送料無料\n",
    "    - 2000円未満の場合は送料350円\n",
    "- 送料込価格を計算する\n"
   ]
  }
 ],
 "metadata": {
  "kernelspec": {
   "display_name": "Python 3",
   "language": "python",
   "name": "python3"
  },
  "language_info": {
   "codemirror_mode": {
    "name": "ipython",
    "version": 3
   },
   "file_extension": ".py",
   "mimetype": "text/x-python",
   "name": "python",
   "nbconvert_exporter": "python",
   "pygments_lexer": "ipython3",
   "version": "3.12.10"
  }
 },
 "nbformat": 4,
 "nbformat_minor": 2
}
