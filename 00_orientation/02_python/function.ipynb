{
 "cells": [
  {
   "cell_type": "code",
   "execution_count": 4,
   "metadata": {},
   "outputs": [
    {
     "name": "stdout",
     "output_type": "stream",
     "text": [
      "Hello, Python!\n",
      "123\n",
      "testtest\n",
      "6\n",
      "4\n",
      "<class 'int'>\n",
      "<class 'str'>\n",
      "<class 'list'>\n",
      "20\n",
      "5\n",
      "c\n",
      "1\n",
      "10\n",
      "60\n",
      "0\n",
      "1\n",
      "2\n",
      "3\n",
      "4\n",
      "[1, 3, 5, 7, 9]\n",
      "文字数: 6\n"
     ]
    }
   ],
   "source": [
    "print(\"Hello, Python!\")  # 出力: Hello, Python!\n",
    "print(123)               # 出力: 123\n",
    "print(\"test\", end=\"\", flush=True) # 出力: test\n",
    "print(\"test\", flush=True) # 出力: 前の行に続けて test\n",
    "\n",
    "print(len(\"Python\"))     # 出力: 6（文字数）\n",
    "print(len([1, 2, 3, 4])) # 出力: 4（リストの要素数）\n",
    "\n",
    "print(type(123))        # 出力: <class 'int'>\n",
    "print(type(\"Python\"))   # 出力: <class 'str'>\n",
    "print(type([1, 2, 3]))  # 出力: <class 'list'>\n",
    "\n",
    "print(max(5, 10, 20))         # 出力: 20\n",
    "print(min(5, 10, 20))         # 出力: 5\n",
    "print(max(\"a\", \"b\", \"c\"))     # 出力: 'c'\n",
    "print(min([1, 2, 3, 4, 5]))   # 出力: 1\n",
    "\n",
    "print(sum([1, 2, 3, 4]))  # 出力: 10\n",
    "print(sum((10, 20, 30)))  # 出力: 60\n",
    "\n",
    "for i in range(5):         # 出力: 0 1 2 3 4\n",
    "   print(i)\n",
    "print(list(range(1, 10, 2))) # 出力: [1, 3, 5, 7, 9]\n",
    "\n",
    "name = input(\"名前を入力してください: \")\n",
    "print(\"文字数:\", len(name))\n",
    "\n",
    "\n",
    "\n"
   ]
  }
 ],
 "metadata": {
  "kernelspec": {
   "display_name": "Python 3",
   "language": "python",
   "name": "python3"
  },
  "language_info": {
   "codemirror_mode": {
    "name": "ipython",
    "version": 3
   },
   "file_extension": ".py",
   "mimetype": "text/x-python",
   "name": "python",
   "nbconvert_exporter": "python",
   "pygments_lexer": "ipython3",
   "version": "3.12.10"
  }
 },
 "nbformat": 4,
 "nbformat_minor": 2
}
