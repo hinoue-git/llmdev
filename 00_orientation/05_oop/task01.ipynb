{
 "cells": [
  {
   "cell_type": "code",
   "execution_count": 31,
   "metadata": {},
   "outputs": [
    {
     "name": "stdout",
     "output_type": "stream",
     "text": [
      "1300\n",
      "エラー: 残高不足または無効な金額です。\n"
     ]
    },
    {
     "ename": "ValueError",
     "evalue": "残高不足または無効な金額です。",
     "output_type": "error",
     "traceback": [
      "\u001b[31m---------------------------------------------------------------------------\u001b[39m",
      "\u001b[31mValueError\u001b[39m                                Traceback (most recent call last)",
      "\u001b[36mCell\u001b[39m\u001b[36m \u001b[39m\u001b[32mIn[31]\u001b[39m\u001b[32m, line 36\u001b[39m\n\u001b[32m     33\u001b[39m         \u001b[38;5;28;01mraise\u001b[39;00m   \n\u001b[32m     35\u001b[39m \u001b[38;5;28;01mif\u001b[39;00m \u001b[34m__name__\u001b[39m == \u001b[33m\"\u001b[39m\u001b[33m__main__\u001b[39m\u001b[33m\"\u001b[39m:\n\u001b[32m---> \u001b[39m\u001b[32m36\u001b[39m     \u001b[43mmain\u001b[49m\u001b[43m(\u001b[49m\u001b[43m)\u001b[49m\n",
      "\u001b[36mCell\u001b[39m\u001b[36m \u001b[39m\u001b[32mIn[31]\u001b[39m\u001b[32m, line 30\u001b[39m, in \u001b[36mmain\u001b[39m\u001b[34m()\u001b[39m\n\u001b[32m     28\u001b[39m     bank.withdraw(\u001b[32m200\u001b[39m) \u001b[38;5;66;03m# 200円を引き出し\u001b[39;00m\n\u001b[32m     29\u001b[39m     \u001b[38;5;28mprint\u001b[39m(bank.get_balance()) \u001b[38;5;66;03m# 現在の残高を表示（1300 と表示される）\u001b[39;00m\n\u001b[32m---> \u001b[39m\u001b[32m30\u001b[39m     \u001b[43mbank\u001b[49m\u001b[43m.\u001b[49m\u001b[43mwithdraw\u001b[49m\u001b[43m(\u001b[49m\u001b[32;43m1500\u001b[39;49m\u001b[43m)\u001b[49m \u001b[38;5;66;03m# 1500円を引き出そうとする（エラー: 残高不足または無効な金額です。）\u001b[39;00m\n\u001b[32m     31\u001b[39m \u001b[38;5;28;01mexcept\u001b[39;00m \u001b[38;5;167;01mValueError\u001b[39;00m \u001b[38;5;28;01mas\u001b[39;00m e:\n\u001b[32m     32\u001b[39m     \u001b[38;5;28mprint\u001b[39m(\u001b[33mf\u001b[39m\u001b[33m\"\u001b[39m\u001b[33mエラー: \u001b[39m\u001b[38;5;132;01m{\u001b[39;00me\u001b[38;5;132;01m}\u001b[39;00m\u001b[33m\"\u001b[39m)\n",
      "\u001b[36mCell\u001b[39m\u001b[36m \u001b[39m\u001b[32mIn[31]\u001b[39m\u001b[32m, line 22\u001b[39m, in \u001b[36mBankAccount.withdraw\u001b[39m\u001b[34m(self, amount)\u001b[39m\n\u001b[32m     20\u001b[39m     \u001b[38;5;28mself\u001b[39m.__balance -= amount\n\u001b[32m     21\u001b[39m \u001b[38;5;28;01melse\u001b[39;00m:\n\u001b[32m---> \u001b[39m\u001b[32m22\u001b[39m     \u001b[38;5;28;01mraise\u001b[39;00m \u001b[38;5;167;01mValueError\u001b[39;00m(\u001b[33m\"\u001b[39m\u001b[33m残高不足または無効な金額です。\u001b[39m\u001b[33m\"\u001b[39m)\n",
      "\u001b[31mValueError\u001b[39m: 残高不足または無効な金額です。"
     ]
    }
   ],
   "source": [
    "class BankAccount:\n",
    "    DEFAULT_BALANCE = 1000\n",
    "\n",
    "    def __init__(self, balance = DEFAULT_BALANCE):\n",
    "        if balance < 0:\n",
    "            raise ValueError(\"正しい金額を入力してください\")\n",
    "        self.__balance = balance\n",
    "\n",
    "    def get_balance(self):\n",
    "        return self.__balance\n",
    "    \n",
    "    def deposit(self, amount):\n",
    "        if amount > 0:\n",
    "            self.__balance += amount\n",
    "        else:\n",
    "            raise ValueError(\"無効な金額です。\")\n",
    "    \n",
    "    def withdraw(self, amount):\n",
    "        if amount > 0 and amount <= self.__balance:\n",
    "            self.__balance -= amount\n",
    "        else:\n",
    "            raise ValueError(\"残高不足または無効な金額です。\")\n",
    "\n",
    "def main():\n",
    "    try: \n",
    "        bank = BankAccount() # 初期残高1000円で BankAccount クラスのインスタンスを作成\n",
    "        bank.deposit(500) # 500円を預け入れ\n",
    "        bank.withdraw(200) # 200円を引き出し\n",
    "        print(bank.get_balance()) # 現在の残高を表示（1300 と表示される）\n",
    "        bank.withdraw(1500) # 1500円を引き出そうとする（エラー: 残高不足または無効な金額です。）\n",
    "    except ValueError as e:\n",
    "        print(f\"エラー: {e}\")\n",
    "        raise   \n",
    "\n",
    "if __name__ == \"__main__\":\n",
    "    main()\n"
   ]
  },
  {
   "cell_type": "markdown",
   "metadata": {},
   "source": [
    "- 残高（balance）属性を定義し、初期残高を指定してインスタンス化できるようにします。残高属性は外部から直接アクセスできないようにしてください。\n",
    "- deposit(amount): 預け入れメソッド。指定された金額を残高に追加します。預け入れる金額が0より小さい場合は エラー: 正しい金額を入力してください と表示して処理を終了します。\n",
    "\n",
    "- withdraw(amount): 引き出しメソッド。指定された金額を残高から引き出します。引き出し可能な場合のみ残高を減らし、残高不足や0以下の金額を指定した場合は エラー: 残高不足または無効な金額です と表示して処理を終了します。\n",
    "\n",
    "- get_balance(): 現在の残高を返します。"
   ]
  }
 ],
 "metadata": {
  "kernelspec": {
   "display_name": "Python 3",
   "language": "python",
   "name": "python3"
  },
  "language_info": {
   "codemirror_mode": {
    "name": "ipython",
    "version": 3
   },
   "file_extension": ".py",
   "mimetype": "text/x-python",
   "name": "python",
   "nbconvert_exporter": "python",
   "pygments_lexer": "ipython3",
   "version": "3.12.10"
  }
 },
 "nbformat": 4,
 "nbformat_minor": 2
}
