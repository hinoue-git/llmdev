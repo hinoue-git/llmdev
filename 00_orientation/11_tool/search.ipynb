{
 "cells": [
  {
   "cell_type": "code",
   "execution_count": 4,
   "metadata": {},
   "outputs": [],
   "source": [
    "# 必要なモジュールをインポート\n",
    "import os\n",
    "import json\n",
    "from dotenv import load_dotenv\n",
    "from openai import OpenAI\n",
    "from openai.types.chat import ChatCompletionToolParam\n",
    "from tavily import TavilyClient\n",
    "\n",
    "# 環境変数の取得\n",
    "load_dotenv(\"../../.env\")\n",
    "\n",
    "# OpenAI APIクライアントを生成\n",
    "client = OpenAI(api_key=os.environ['API_KEY'])\n",
    "\n",
    "# tavily検索用APIキーの取得\n",
    "TAVILY_API_KEY = os.environ['TAVILY_API_KEY']\n",
    "\n",
    "# モデル名\n",
    "MODEL_NAME = \"gpt-4o-mini\""
   ]
  },
  {
   "cell_type": "code",
   "execution_count": 5,
   "metadata": {},
   "outputs": [],
   "source": [
    "# 検索結果を返す関数の作成\n",
    "def get_search_result(question):\n",
    "    client = TavilyClient(api_key=TAVILY_API_KEY)\n",
    "    response = client.search(question)\n",
    "    return json.dumps({\"result\": response[\"results\"]})"
   ]
  },
  {
   "cell_type": "code",
   "execution_count": 6,
   "metadata": {},
   "outputs": [
    {
     "data": {
      "text/plain": [
       "{'result': [{'url': 'https://ekitan.com/event/station-2590',\n",
       "   'title': '東京駅周辺のイベント - 駅探',\n",
       "   'content': '東京駅周辺のイベント - 駅探 駅探 | ekitan *   乗換案内 *   飛行機時刻表 *   飛行機時刻表(国内線) *   飛行機時刻表(国際線)NEW *   高速・夜行バス時刻表 NEW 1.   駅探 3.   東京駅周辺のイベント *   条件 - [x] 無料イベント  - [x] 駐車場あり  - [x] 屋内    *   Image 3: 環境省主催 教職員等環境教育・学習推進リーダー養成研修 実践編 対面研修 東京会場 #### 環境省主催 教職員等環境教育・学習推進リーダー養成研修 実践編 対面研修 東京会場 学校教育×SDGs、環境教育・ESD実践 期間 2025年8月18日(月) 会場 ビジョンセンター東京駅前 * 東京都 中央区 * 東京駅／日本橋駅(東京)／京橋駅(東京)駅 1. *   Image 8: 朝ガツ 東京10社巡り開運ウォーキング-城南4社で運気アップ- #### 朝ガツ 東京10社巡り開運ウォーキング-城南4社で運気アップ- 東京十社巡りウォーキングで開運祈願 期間 2025年5月17日(土)このイベントは終了しました 会場 東京駅丸の内駅前広場（集合） * 東京都 千代田区 * 東京駅／二重橋前駅／大手町駅(東京)駅 *   Image 12 東京メトロ日比谷線 八丁堀駅 徒歩4分 36.6万円(管理費等：14,000円) 2LDK / 74.9m 2 / 12階 / 築18年 Image 13 東京メトロ有楽町線 銀座一丁目駅 徒歩4分 22.5万円(管理費等：13,000円) 1LDK / 49.34m 2 / 13階 / 築21年 Image 14 JR山手線 神田駅 徒歩3分 20.0万円(管理費等：20,000円) 1LDK / 40.58m 2 / 4階 / 築1年 東京駅周辺の物件一覧を見る   Copyright©2025 駅探.',\n",
       "   'score': 0.7938904,\n",
       "   'raw_content': None},\n",
       "  {'url': 'https://www.walkerplus.com/event_list/ar0313/sc309880d/',\n",
       "   'title': '東京駅(東京都)周辺のイベント - ウォーカープラス',\n",
       "   'content': '今日 明日 今週末 * エリアを選択 * 目的から探す エリア :   * 東京都 * 千代田区 * 中央区 * 港区 * 新宿区 * 文京区 * 台東区 * 墨田区 * 江東区 * 品川区 * 目黒区 * 大田区 * 世田谷区 * 渋谷区 2025年5月29日(木)～9月7日(日) * 日本橋高島屋S.C. BBQ BEER GARDEN(バーベキュービアガーデン) 2025年4月16日(水)～11月5日(水) 日本橋駅(東京都), 京橋駅(東京都), 茅場町駅(東京都), 宝町駅(東京都), 東京駅(東京都) 日本橋高島屋S.C.本館 * 丸ノ内ホテル アーバンビアテラス2025 2025年6月6日(金)～9月30日(火) 東京都 東京駅(東京都), 大手町駅(東京都), 二重橋前駅(東京都), 日本橋駅(東京都), 三越前駅(東京都) 丸ノ内ホテル 2025年6月1日(日)～8月31日(日) 東京都 東京駅(東京都), 二重橋前駅(東京都), 京橋駅(東京都), 大手町駅(東京都), 有楽町駅(東京都) 2025年8月8日(金)～2026年3月31日(火) 東京都 日比谷駅(東京都), 有楽町駅(東京都), 東京駅(東京都), 京橋駅(東京都) 2025年8月5日(火)～31日(日) 東京都 東京駅(東京都), 二重橋前駅(東京都), 有楽町駅(東京都), 京橋駅(東京都), 銀座一丁目駅(東京都) * BEER TERRACE in（marunouchi）HOUSE 2025 2025年6月20日(金)～9月21日(日) 東京都 東京駅(東京都), 二重橋前駅(東京都), 大手町駅(東京都), 有楽町駅(東京都), 京橋駅(東京都) 2025年7月5日(土)～8月31日(日) 東京都 東京駅(東京都), 二重橋前駅(東京都), 大手町駅(東京都), 日本橋駅(東京都), 京橋駅(東京都) 東京都 二重橋前駅(東京都), 有楽町駅(東京都), 東京駅(東京都), 日比谷駅(東京都) 2025年6月24日(火)～9月21日(日) 東京都 京橋駅(東京都), 宝町駅(東京都), 日本橋駅(東京都), 東京駅(東京都), 銀座一丁目駅(東京都) :   * 東京都 * ワンコとニャンコ Walker * からだにplus Walker',\n",
       "   'score': 0.7625837,\n",
       "   'raw_content': None},\n",
       "  {'url': 'https://www.enjoytokyo.jp/event/list/sta200101/its04/',\n",
       "   'title': '今日行ける！東京駅周辺のおすすめイベント',\n",
       "   'content': '東京都\\u3000千代田区 東京ビアホール＆ビアテラス14『TOKYO BEER WAVE』 東京ビアホール＆ビアテラス14『TOKYO BEER WAVE』 東京都\\u3000千代田区 2025/05/29(木) ～ 09/07(日) 東京都\\u3000文京区 伊勢丹 立川店：3/26〜4/15 国際フォーラム：7/14〜7/31 日本橋三越本店：8/6〜8/19 文京グリーンコート：9/1〜9/30 2025/06/13(金) ～ 06/26(木) ～ 2025/06/22(日) 2025/06/14(土) ～ 07/21(月・祝) ～ 2025/06/22(日) ～ 2025/06/22(日) 2025/05/27(火) ～ 09/23(火・祝) 東京都\\u3000港区 2025/05/12(月) ～ 09/07(日) 東京都\\u3000港区 2025/04/18(金) ～ 09/23(火・祝) 2025/01/18(土) ～ ※上映日・上映時間は公式ウェブサイトよりご確認ください。 東京都\\u3000武蔵野市 2025/06/21(土) ～ 08/17(日) 東京都\\u3000武蔵野市 2025/06/06(金) ～ 07/06(日) ※期間中の金曜日、土曜日、日曜日に開催 Lounge ＆ Dining G／東京マリオットホテル 東京都・品川駅 ／ テラスレストラン Cafe & Dining ZelkovA／ザ ストリングス 表参道 東京都・表参道駅 ／ テラスレストラン 東京都・渋谷駅 ／ テラスレストラン 東京都・吉祥寺駅 ／ テラスレストラン 東京都・渋谷駅 ／ テラスレストラン 東京都・六本木一丁目駅 ／ テラスレストラン 東京都・京橋駅 ／ テラスレストラン 東京都・渋谷駅 ／ テラスレストラン 東京都・銀座一丁目駅 ／ テラスレストラン 東京都・表参道駅 ／ テラスレストラン 347 CAFE ＆ LOUNGE 東京都・渋谷駅 ／ テラスレストラン 東京都・神保町駅 ／ テラスレストラン 東京都・渋谷駅 ／ テラスレストラン 神奈川県・みなとみらい駅 ／ テラスレストラン 神奈川県・横浜駅 ／ テラスレストラン 千葉県・船橋駅 ／ テラスレストラン',\n",
       "   'score': 0.7147281,\n",
       "   'raw_content': None},\n",
       "  {'url': 'https://www.enjoytokyo.jp/event/list/area1306/',\n",
       "   'title': \"東京駅周辺・丸の内でおすすめのイベント - Let's ENJOY TOKYO\",\n",
       "   'content': '～ 2025/06/01(日) 休館日：月曜日（5月5日は開館）、5月7日 ～ 2025/06/01(日) ～ 2025/06/01(日) 休館日：月曜日（5月5日は開館）、5月7日 ～ 2025/06/03(火) ～ 2025/06/03(火) ～ 2025/06/03(火) 2025/05/29(木) ～ 09/07(日) 伊勢丹 立川店：3/26〜4/15 国際フォーラム：7/14〜7/31 日本橋三越本店：8/6〜8/19 文京グリーンコート：9/1〜9/30 2025/05/21(水) ～ 06/30(月) 熊本が誇る旬の逸品“春スイカ”を首都圏で楽しめる「熊本 春スイカ フェスタ」が開催！ 2025/04/08(火) ～ 07/27(日) 休室日：月曜日、7月8日(火)～13日(日) 2025/05/19(月) ～ 06/08(日) ～ 2025/05/31(土) 2025/06/21(土) ～ 06/22(日) 2025/06/21(土) ～ 06/22(日) 2026/02/07(土) ～ 05/24(日) 休館日：2026/02/16(月)、03/16(月)、04/13(月)、05/11(月) 20世紀北欧デザインの巨匠 スティグ・リンドベリ展 2025/08/20(水) ～ 09/07(日) 20世紀北欧デザインの巨匠 スティグ・リンドベリ展 20世紀北欧デザインの巨匠 スティグ・リンドベリの作品約300点を展示！ 2025/07/26(土) ～ 08/15(金) 2025/06/06(金) ～ 07/06(日) 2025/06/14(土) ～ 07/21(月・祝) 2025/05/31(土) ～ 06/01(日) ～ 2025/05/31(土) 2025/05/13(火) ～ 07/06(日) 休館日は月曜日。開映日時は作品によって異なる。 天空茶会第二十四葉 特別セミナー世界の茶産地を訪ねて セミナー午前の部\\u3000ネパールとの出会い 天空茶会第二十四葉 特別セミナー世界の茶産地を訪ねて セミナー午前の部\\u3000ネパールとの出会い 2025/07/15(火) ～ 08/24(日) 休館日は月曜日。開映日時は作品によって異なる。 2025/07/18(金) ～ 10/05(日) ～ 2025/06/01(日) 2025/06/07(土) ～ 06/15(日) 2025/05/30(金) ～ 06/01(日) 2025/01/18(土) ～ ※上映日・上映時間は公式ウェブサイトよりご確認ください。 2025/05/16(金) ～ 06/29(日) 2025/05/24(土) ～ 06/16(月) Lounge ＆ Dining G／東京マリオットホテル Cafe & Dining ZelkovA／ザ ストリングス 表参道 347 CAFE ＆ LOUNGE',\n",
       "   'score': 0.70871735,\n",
       "   'raw_content': None},\n",
       "  {'url': 'https://www.walkerplus.com/event_list/weekend/ar0313/',\n",
       "   'title': '東京都のイベント【今週末2025年8月30日(土)～2025年8月31日(日)】',\n",
       "   'content': 'Walker+ 次の楽しいが見つかる。 東京都東京都TOP # 東京都のイベント【今週末2025年6月7日(土)～2025年6月8日(日)】 折りたたむ 折りたたむ 全336件中1〜10件 もっと詳しい条件で絞り込む 開催中 2025年4月18日(金)～9月23日(祝) 東京都 港区 虎ノ門ヒルズ駅(東京都), 虎ノ門駅(東京都), 神谷町駅(東京都), 国会議事堂前駅(東京都), 六本木一丁目駅(東京都) TOKYO NODE GALLERY 累計116万人を動員した、デザインを体感する展覧会 駐車場 開催中 開催中～2025年6月25日(水) 東京都 港区 乃木坂駅(東京都), 六本木駅(東京都), 六本木一丁目駅(東京都), 青山一丁目駅(東京都) とらや 東京ミッドタウン店ギャラリー 子どもと一緒に楽しめる駄菓子の企画展 入場無料 開催中 2025年5月27日(火)～9月23日(祝) 東京都 品川区 天王洲アイル駅(東京都), 北品川駅(東京都), 新馬場駅(東京都) 東京・天王洲\\u3000寺田倉庫 B＆C HALL/E HALL ジブリ映画の世界を体感できる展覧会 開催中 2025年3月8日(土)～9月7日(日) 東京都 江東区 市場前駅(東京都), 新豊洲駅(東京都) ラムセス・ミュージアム at CREVIA BASE Tokyo ウェンジェバエンジェドの黄金のマスク 開催中 2025年1月18日(土)～7月6日(日) 東京都 千代田区 銀座駅(東京都), 有楽町駅(東京都), 日比谷駅(東京都), 銀座一丁目駅(東京都), 東銀座駅(東京都) コニカミノルタプラネタリアTOKYO 360度ゴッホの世界に包まれる 駐車場 開催中 2025年3月18日(火)～10月13日(祝) 東京都 港区 赤羽橋駅(東京都), 神谷町駅(東京都), 御成門駅(東京都), 芝公園駅(東京都), 大門駅(東京都) 東京タワー サントリーが定めた厳しい品質基準を満たした究極のハイボール「頂店ハイボール」 駐車場 開催中 2025年4月16日(水)～7月6日(日) 東京都 立川市 立川北駅(東京都), 立川駅(東京都), 高松駅(東京都), 立川南駅(東京都) PLAY! 2025年4月29日(祝)～6月30日(月) 東京都 上中里駅(東京都), 西ケ原駅(東京都), 駒込駅(東京都), 尾久駅(東京都), 梶原停留所(東京都) 2025年4月9日(水)～6月30日(月) 東京都 竹芝駅(東京都), 浜松町駅(東京都), 大門駅(東京都) 2025年4月25日(金)～6月22日(日) 東京都 銀座駅(東京都), 東銀座駅(東京都), 銀座一丁目駅(東京都), 有楽町駅(東京都), 日比谷駅(東京都) 6月 ワンコとニャンコ Walker からだにplus Walker CHECK!関東の花火大会ランキング CHECK!2025年関東で開催予定の花火大会 @chara\\\\_walker\\\\_',\n",
       "   'score': 0.7016523,\n",
       "   'raw_content': None}]}"
      ]
     },
     "execution_count": 6,
     "metadata": {},
     "output_type": "execute_result"
    }
   ],
   "source": [
    "# テスト用コード\n",
    "ret = get_search_result(\"東京駅のイベントを教えて\")\n",
    "json.loads(ret)"
   ]
  },
  {
   "cell_type": "code",
   "execution_count": 8,
   "metadata": {},
   "outputs": [],
   "source": [
    "# ツール定義\n",
    "def define_tools():\n",
    "    print(\"------define_tools(ツール定義)------\")\n",
    "    return [\n",
    "        ChatCompletionToolParam({\n",
    "            \"type\": \"function\",\n",
    "            \"function\": {\n",
    "                \"name\": \"get_search_result\",\n",
    "                \"description\": \"最近一ヵ月のイベント開催予定などネット検索が必要な場合に、質問文の検索結果を取得する\",\n",
    "                \"parameters\": {\n",
    "                    \"type\": \"object\",\n",
    "                    \"properties\": {\n",
    "                        \"question\": {\"type\": \"string\", \"description\": \"質問文\"},\n",
    "                    },\n",
    "                    \"required\": [\"question\"],\n",
    "                },\n",
    "            },\n",
    "        })\n",
    "    ]"
   ]
  },
  {
   "cell_type": "code",
   "execution_count": 9,
   "metadata": {},
   "outputs": [],
   "source": [
    "# 言語モデルへの質問を行う関数\n",
    "def ask_question(question, tools):\n",
    "    response = client.chat.completions.create(\n",
    "        model=MODEL_NAME,\n",
    "        messages=[{\"role\": \"user\", \"content\": question}],\n",
    "        tools=tools,\n",
    "        tool_choice=\"auto\",\n",
    "    )\n",
    "    return response"
   ]
  },
  {
   "cell_type": "code",
   "execution_count": 19,
   "metadata": {},
   "outputs": [],
   "source": [
    "# ツール呼び出しが必要な場合の処理を行う関数\n",
    "def handle_tool_call(response, question):\n",
    "    # 関数の実行と結果取得\n",
    "    tool = response.choices[0].message.tool_calls[0]\n",
    "    print(tool)\n",
    "    function_name = tool.function.name\n",
    "    print(function_name)\n",
    "    arguments = json.loads(tool.function.arguments)\n",
    "    function_response = globals()[function_name](**arguments)\n",
    "\n",
    "    # 関数の実行結果をmessagesに加えて再度言語モデルを呼出\n",
    "    response_after_tool_call = client.chat.completions.create(\n",
    "        model=MODEL_NAME,\n",
    "        messages=[\n",
    "            {\"role\": \"user\", \"content\": question},\n",
    "            response.choices[0].message,\n",
    "            {\n",
    "                \"tool_call_id\": tool.id,\n",
    "                \"role\": \"tool\",\n",
    "                \"content\": function_response,\n",
    "            },\n",
    "        ],\n",
    "    )\n",
    "    return response_after_tool_call"
   ]
  },
  {
   "cell_type": "code",
   "execution_count": 11,
   "metadata": {},
   "outputs": [],
   "source": [
    "# ユーザーからの質問を処理する関数\n",
    "def process_response(question, tools):\n",
    "    response = ask_question(question, tools)\n",
    "\n",
    "    if response.choices[0].finish_reason == 'tool_calls':\n",
    "        # ツール呼出の場合\n",
    "        final_response = handle_tool_call(response, question)\n",
    "        return final_response.choices[0].message.content.strip()\n",
    "    else:\n",
    "        # 言語モデルが直接回答する場合\n",
    "        return response.choices[0].message.content.strip()"
   ]
  },
  {
   "cell_type": "code",
   "execution_count": 17,
   "metadata": {},
   "outputs": [
    {
     "name": "stdout",
     "output_type": "stream",
     "text": [
      "------define_tools(ツール定義)------\n",
      "東京都と沖縄県の面積を比較すると、沖縄県の方が広いです。\n",
      "\n",
      "- 東京都の面積は約2,194平方キロメートルです。\n",
      "- 沖縄県の面積は約2,271平方キロメートルです。\n",
      "\n",
      "そのため、沖縄県が東京都よりも広いということになります。\n"
     ]
    }
   ],
   "source": [
    "tools = define_tools()\n",
    "\n",
    "# 言語モデルが直接回答できる質問\n",
    "question = \"東京都と沖縄県はどちらが広いですか？\"\n",
    "response_message = process_response(question, tools)\n",
    "print(response_message)"
   ]
  },
  {
   "cell_type": "code",
   "execution_count": 20,
   "metadata": {},
   "outputs": [
    {
     "name": "stdout",
     "output_type": "stream",
     "text": [
      "------define_tools(ツール定義)------\n",
      "ChatCompletionMessageFunctionToolCall(id='call_L7u8tj3wL32rqQsElzHs1baY', function=Function(arguments='{\"question\":\"東京駅 最近1ヶ月 イベント\"}', name='get_search_result'), type='function')\n",
      "get_search_result\n",
      "最近1ヶ月以内に行われている東京駅周辺のイベントに関する情報は以下の通りです。\n",
      "\n",
      "1. **東京駅周辺のイベント**  \n",
      "   [詳細はこちら](https://www.walkerplus.com/event_list/ar0313/sc309880d/)  \n",
      "   ・エリア: 東京都、千代田区  \n",
      "   ・イベント内容: 各種イベントが予定されています。BBQビアガーデンや期間限定のレストランなど、多彩なイベントが展開中です。\n",
      "\n",
      "2. **ENJOY TOKYO**  \n",
      "   [詳細はこちら](https://www.enjoytokyo.jp/event/list/sta200101/)  \n",
      "   ・エリア: 東京都  \n",
      "   ・内容: 東京駅直結の「XEX TOKYO」で開催されるフードイベントや、さまざまな展示会が行われます。\n",
      "\n",
      "3. **東京駅イベントカレンダー**  \n",
      "   [詳細はこちら](https://bestcalendar.jp/events/%E6%9D%B1%E4%BA%AC%E9%A7%85)  \n",
      "   ・詳細: 東京駅での最新イベント情報が掲載されています。特に、展覧会やシーズンイベントなどがあり、随時更新されています。\n",
      "\n",
      "4. **東京ステーションギャラリー**  \n",
      "   [詳細はこちら](https://www.ejrcf.or.jp/gallery/)  \n",
      "   ・日程: 2025年のイベント情報が掲載されていますが、現在も展示やアートイベントが行われています。\n",
      "\n",
      "5. **Gransta Tokyoのニュース**  \n",
      "   [詳細はこちら](https://www.gransta.jp/news/)  \n",
      "   ・内容: 東京駅の地下街Granstaでの新着情報やイベント情報が更新されています。\n",
      "\n",
      "これらのイベントは、東京駅を起点に観光や食事を楽しむのに適したものばかりです。興味のあるイベントをぜひ訪れてみてください。\n"
     ]
    }
   ],
   "source": [
    "tools = define_tools()\n",
    "\n",
    "# ツール呼出が必要な質問\n",
    "question = \"東京駅のイベントについて、最近1ヶ月以内の検索結果を教えてください\"\n",
    "response_message = process_response(question, tools)\n",
    "print(response_message)"
   ]
  },
  {
   "cell_type": "code",
   "execution_count": 21,
   "metadata": {},
   "outputs": [
    {
     "name": "stdout",
     "output_type": "stream",
     "text": [
      "------define_tools(ツール定義)------\n"
     ]
    },
    {
     "data": {
      "text/plain": [
       "'質問:今週の大阪の天気は？'"
      ]
     },
     "metadata": {},
     "output_type": "display_data"
    },
    {
     "name": "stdout",
     "output_type": "stream",
     "text": [
      "ChatCompletionMessageFunctionToolCall(id='call_sM7NpKP9jnxJTKVnF46qWwYF', function=Function(arguments='{\"question\":\"今週の大阪の天気\"}', name='get_search_result'), type='function')\n",
      "get_search_result\n",
      "今週の大阪の天気予報は以下のようになっています。\n",
      "\n",
      "- **10月13日（金）**: 晴れ時々曇り、最高気温28℃、最低気温19℃\n",
      "- **10月14日（土）**: 晴れ時々曇り、最高気温27℃、最低気温19℃\n",
      "- **10月15日（日）**: 曇り時々晴れ、最高気温26℃、最低気温20℃\n",
      "- **10月16日（月）**: 曇り、最高気温24℃、最低気温18℃\n",
      "- **10月17日（火）**: 雨、最高気温23℃、最低気温19℃\n",
      "- **10月18日（水）**: 雨、最高気温22℃、最低気温18℃\n",
      "- **10月19日（木）**: 曇り、最高気温24℃、最低気温19℃\n",
      "\n",
      "地域によって天気の変動がありますので、詳細な予報は公式の天気サイトで確認することをお勧めします。たとえば、[こちらのリンク](https://tenki.jp/forecast/6/30/6200/27100/10days.html)で詳しい情報をチェックすることができます。\n"
     ]
    },
    {
     "data": {
      "text/plain": [
       "'質問:2025年8月25日週の大阪の天気は？'"
      ]
     },
     "metadata": {},
     "output_type": "display_data"
    },
    {
     "name": "stdout",
     "output_type": "stream",
     "text": [
      "ChatCompletionMessageFunctionToolCall(id='call_3rFgzfpgIzaJH1ZyGsCz0Gud', function=Function(arguments='{\"question\":\"2025年8月25日週の大阪の天気予報\"}', name='get_search_result'), type='function')\n",
      "get_search_result\n",
      "2025年8月25日週の大阪の天気に関する詳細な予報は現在は提供できません。過去の天気記録や予想に関する情報は限られており、具体的な日付については、188ヤマトで通常何をするのかや、その時期の気象傾向については知識がありますが、正確な天気だけは予測することはできません。\n",
      "\n",
      "現時点では、以下のリンクで過去の天気データを確認できます：\n",
      "- [tenki.jpの大阪の過去の天気データ](https://tenki.jp/past/2025/08/weather/6/30/)\n",
      "\n",
      "その後の詳細については、例えば、前年やそれに近い日付の天気を参考にすることができます。天気予報が近づくにつれ、最新の情報を確認することをお勧めします。\n"
     ]
    },
    {
     "data": {
      "text/plain": [
       "'質問:2025年8月29日の大阪の天気は？'"
      ]
     },
     "metadata": {},
     "output_type": "display_data"
    },
    {
     "name": "stdout",
     "output_type": "stream",
     "text": [
      "ChatCompletionMessageFunctionToolCall(id='call_WO8xPszkixKbks35m5i7aZM6', function=Function(arguments='{\"question\":\"2025年8月29日の大阪の天気予報\"}', name='get_search_result'), type='function')\n",
      "get_search_result\n",
      "2025年8月29日の大阪の天気に関する詳細な情報は提供できませんが、長期予報に基づくと、この時期は通常、暑い夏の終わりを迎え、気温が高く、湿度も高いことが予想されます。曇りや雨の可能性もあるため、最新の天気予報を参考にすることをお勧めします。\n",
      "\n",
      "詳細な天気情報にアクセスしたい場合は、以下のリンクを参照してください。\n",
      "\n",
      "- [AccuWeatherの大阪天気情報](https://www.accuweather.com/ja/jp/osaka-shi/225007/august-weather/225007)\n",
      "- [tenki.jpの大阪過去の天気](https://tenki.jp/past/2025/08/weather/) \n",
      "\n",
      "これらの情報源で、特定の日の天気に関する最新のデータを確認することができます。\n"
     ]
    },
    {
     "data": {
      "text/plain": [
       "'質問:こんにちは！'"
      ]
     },
     "metadata": {},
     "output_type": "display_data"
    },
    {
     "name": "stdout",
     "output_type": "stream",
     "text": [
      "こんにちは！今日はどのようにお手伝いできますか？\n"
     ]
    },
    {
     "data": {
      "text/plain": [
       "'質問:東北6県は？'"
      ]
     },
     "metadata": {},
     "output_type": "display_data"
    },
    {
     "name": "stdout",
     "output_type": "stream",
     "text": [
      "東北地方は、日本の北東部に位置する地域で、以下の6県から成り立っています。\n",
      "\n",
      "1. 青森県\n",
      "2. 岩手県\n",
      "3. 宮城県\n",
      "4. 秋田県\n",
      "5. 山形県\n",
      "6. 福島県\n",
      "\n",
      "これらの県は、豊かな自然や歴史的な文化が魅力の地域です。\n"
     ]
    },
    {
     "data": {
      "text/plain": [
       "'質問:宮城県のお土産について検索した結果を教えて'"
      ]
     },
     "metadata": {},
     "output_type": "display_data"
    },
    {
     "name": "stdout",
     "output_type": "stream",
     "text": [
      "ChatCompletionMessageFunctionToolCall(id='call_0JvXtqc531Vyp5B5cv1wU7eN', function=Function(arguments='{\"question\":\"宮城県のお土産\"}', name='get_search_result'), type='function')\n",
      "get_search_result\n",
      "宮城県のお土産についての情報をいくつかご紹介します。\n",
      "\n",
      "1. **宮城県のお土産ランキング**:\n",
      "   - 宮城県では、様々な名産品やお土産が人気があります。特に地元の特産品を使用した食品が人気です。たとえば、「牛たん」や「ずんだ餅」などが有名です。 ([詳細](https://mangaroad.jp/?p=946))\n",
      "\n",
      "2. **おすすめのお土産**:\n",
      "   - 「萩の月」や「ずんだ餅」、「笹かまぼこ」などが代表的なお土産として挙げられています。これらは観光客にも人気で、訪れる際にはぜひお試しください。 ([参考サイト](https://atlas-log.com/miyagi-souvenir/))\n",
      "\n",
      "3. **特製の地元産品**:\n",
      "   - 宮城県の地元産品には、農産物や特製の調味料、菓子などもあります。「金華さば」や「仙台味噌」なども名物として知られています。 ([情報リンク](https://tsplus.asahi.co.jp/articles/gift/75865/))\n",
      "\n",
      "4. **おすすめの参加型体験**:\n",
      "   - お皿などの工芸品作り体験や、地元の新鮮な食材を使った料理教室など、体験型のお土産も人気があります。 ([詳細](https://travel.rakuten.co.jp/mytrip/howto/sendai-souvenir))\n",
      "\n",
      "5. **自宅用にぴったりのお土産**:\n",
      "   - 自宅で楽しむための宮城県産のお土産も多く、例えば「仙台みりん」や「喜久福のずんだ」といった商品があります。 ([詳細情報](https://www.jalan.net/omiyage/040000/))\n",
      "\n",
      "これらを参考に、宮城県を訪れた際には、ぜひ魅力的なお土産を選んでみてください。\n",
      "\n",
      "---ご利用ありがとうございました！---\n"
     ]
    }
   ],
   "source": [
    "# チャットボットへの組み込み\n",
    "tools = define_tools()\n",
    "\n",
    "messages=[]\n",
    "\n",
    "# メッセージにキャラクター設定を追加\n",
    "messages.append({\"role\": \"system\", \"content\": \"あなたは忍者のキャラクターです。常に忍者と分かる喋り方をして下さい\"})\n",
    "\n",
    "while(True):\n",
    "    # ユーザーからの質問を受付\n",
    "    question = input(\"メッセージを入力:\")\n",
    "    # 質問が入力されなければ終了\n",
    "    if question.strip()==\"\":\n",
    "        break\n",
    "    display(f\"質問:{question}\")\n",
    "\n",
    "    # メッセージにユーザーからの質問を追加\n",
    "    messages.append({\"role\": \"user\", \"content\": question.strip()})\n",
    "    # やりとりが8を超えたら古いメッセージから削除\n",
    "    if len(messages) > 8:\n",
    "        for i in range(len(messages)):\n",
    "            # roleがsystemのメッセージは削除しない\n",
    "            if messages[i][\"role\"] == \"user\" or messages[i][\"role\"] == \"assistant\":\n",
    "                del_message = messages.pop(i)\n",
    "                break\n",
    "\n",
    "    # 言語モデルに質問\n",
    "    response_message = process_response(question, tools)\n",
    "\n",
    "    # メッセージに言語モデルからの回答を追加\n",
    "    print(response_message, flush=True)\n",
    "    messages.append({\"role\": \"assistant\", \"content\": response_message})\n",
    "\n",
    "print(\"\\n---ご利用ありがとうございました！---\")"
   ]
  }
 ],
 "metadata": {
  "kernelspec": {
   "display_name": ".venv",
   "language": "python",
   "name": "python3"
  },
  "language_info": {
   "codemirror_mode": {
    "name": "ipython",
    "version": 3
   },
   "file_extension": ".py",
   "mimetype": "text/x-python",
   "name": "python",
   "nbconvert_exporter": "python",
   "pygments_lexer": "ipython3",
   "version": "3.12.7"
  }
 },
 "nbformat": 4,
 "nbformat_minor": 2
}
