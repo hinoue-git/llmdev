{
 "cells": [
  {
   "cell_type": "code",
   "execution_count": 38,
   "metadata": {},
   "outputs": [
    {
     "name": "stdout",
     "output_type": "stream",
     "text": [
      "ユーザー名に空白を含めることはできません。\n",
      "不正なユーザー名です\n"
     ]
    }
   ],
   "source": [
    "\n",
    "def exec_validation(user_name):\n",
    "    user_name = user_name.strip()\n",
    "\n",
    "    if not user_name:\n",
    "        print(\"ユーザー名は空にできません。\")\n",
    "        return False\n",
    "    elif len(user_name) < 5 or len(user_name) > 15:\n",
    "        print(\"ユーザー名は5文字以上15文字以内で入力してください\")\n",
    "        return False\n",
    "    elif ' ' in user_name:\n",
    "        print(\"ユーザー名に空白を含めることはできません。\")\n",
    "        return False \n",
    "    elif not user_name.isalnum():\n",
    "        print(\"ユーザー名は英数字のみ使用できます\")\n",
    "        return False\n",
    "    else:\n",
    "        return True\n",
    "\n",
    "\n",
    "def main():\n",
    "    while True:\n",
    "        try:\n",
    "            user_name = input(\"ユーザー名を入力してください: \")\n",
    "            ret = exec_validation(user_name)\n",
    "            if ret is True:\n",
    "                print(\"ユーザー名は有効です\")\n",
    "            elif ret is False:\n",
    "                print(\"不正なユーザー名です\")\n",
    "            break\n",
    "        except ValueError:\n",
    "            print(\"エラー:無効な入力です。\")  \n",
    "\n",
    "\n",
    "if __name__ == \"__main__\":\n",
    "    main()"
   ]
  },
  {
   "cell_type": "code",
   "execution_count": null,
   "metadata": {},
   "outputs": [],
   "source": []
  },
  {
   "cell_type": "markdown",
   "metadata": {},
   "source": [
    "# 関数の仕様：  \n",
    "\n",
    "- 文字列を受け取り、バリデーションの結果をブール値で返す関数を作成してください。\n",
    "バリデーションのルールは以下です。\n",
    "    - ユーザー名は5文字以上15文字以内。条件を満たさない場合は エラー: ユーザー名は5文字以上15文字以内で入力してください と表示して False を返してください。\n",
    "    - ユーザー名に空白は使えない。含まれている場合は エラー: ユーザー名に空白を含めることはできません と表示して False を返してください。\n",
    "    - ユーザー名は英数字（アルファベットと数字）のみ使用可能。それ以外の文字が含まれている場合は エラー: ユーザー名は英数字のみ使用できます と表示して False を返してください。\n",
    "- すべての条件を満たす場合は、Trueを返す（※成功メッセージは表示しない）。\n",
    "\n",
    "# 呼び出し側の仕様：\n",
    "\n",
    "- ユーザーにユーザー名を入力させ、そのユーザー名が適切かを、上記のバリデーション関数で判定させてください。\n",
    "- バリデーションの結果、条件を満たしていたら ユーザー名は有効です と表示、そうでなければ 不正なユーザー名です と表示してください。"
   ]
  }
 ],
 "metadata": {
  "kernelspec": {
   "display_name": "Python 3",
   "language": "python",
   "name": "python3"
  },
  "language_info": {
   "codemirror_mode": {
    "name": "ipython",
    "version": 3
   },
   "file_extension": ".py",
   "mimetype": "text/x-python",
   "name": "python",
   "nbconvert_exporter": "python",
   "pygments_lexer": "ipython3",
   "version": "3.12.10"
  }
 },
 "nbformat": 4,
 "nbformat_minor": 2
}
