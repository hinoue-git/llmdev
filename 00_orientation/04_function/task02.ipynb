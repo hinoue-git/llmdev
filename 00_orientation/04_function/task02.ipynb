{
 "cells": [
  {
   "cell_type": "code",
   "execution_count": 7,
   "metadata": {},
   "outputs": [
    {
     "name": "stdout",
     "output_type": "stream",
     "text": [
      "Content saved in: 20250818_183856.txt\n"
     ]
    }
   ],
   "source": [
    "import datetime as dt\n",
    "import urllib.request\n",
    "\n",
    "def save_url_content(url):\n",
    "    # 現在の日時を取得\n",
    "    now = dt.datetime.now()\n",
    "    file = now.strftime('%Y%m%d_%H%M%S') + \".txt\"\n",
    "\n",
    "    # URLからコンテンツを取得\n",
    "    response = urllib.request.urlopen(url)\n",
    "\n",
    "    # HTMLデータを読み込み、UTF-8文字列にデコード\n",
    "    html = response.read().decode(\"utf-8\")\n",
    "\n",
    "    # ファイルに書き込み\n",
    "    with open(file, 'w', encoding='utf-8') as f:\n",
    "        f.write(html[:500])\n",
    "    \n",
    "    # 作成されたファイル名を関数の戻り値として返す\n",
    "    return file\n",
    "\n",
    "\n",
    "def main():\n",
    "    # ユーザーからURLを入力\n",
    "    url = input(\"URLを入力してください: \")\n",
    "    # URLのコンテンツを保存\n",
    "    file_name = save_url_content(url)\n",
    "    print(f\"Content saved in: {file_name}\")\n",
    "\n",
    "\n",
    "if __name__ == \"__main__\":\n",
    "    main()"
   ]
  }
 ],
 "metadata": {
  "kernelspec": {
   "display_name": "Python 3",
   "language": "python",
   "name": "python3"
  },
  "language_info": {
   "codemirror_mode": {
    "name": "ipython",
    "version": 3
   },
   "file_extension": ".py",
   "mimetype": "text/x-python",
   "name": "python",
   "nbconvert_exporter": "python",
   "pygments_lexer": "ipython3",
   "version": "3.12.10"
  }
 },
 "nbformat": 4,
 "nbformat_minor": 2
}
